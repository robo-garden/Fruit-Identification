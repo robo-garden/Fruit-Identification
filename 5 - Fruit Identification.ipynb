{
  "nbformat": 4,
  "nbformat_minor": 0,
  "metadata": {
    "kernelspec": {
      "name": "python3",
      "display_name": "Python 3",
      "language": "python"
    },
    "colab": {
      "name": "Fruits360.ipynb",
      "provenance": []
    }
  },
  "cells": [
    {
      "cell_type": "code",
      "metadata": {
        "_uuid": "8f2839f25d086af736a60e9eeb907d3b93b6e0e5",
        "_cell_guid": "b1076dfc-b9ad-4769-8c92-a6c4dae69d19",
        "trusted": true,
        "id": "K8F3hPYe37No",
        "colab_type": "code",
        "colab": {}
      },
      "source": [
        "\n",
        "import numpy as np # linear algebra\n",
        "import pandas as pd # data processing, CSV file I/O (e.g. pd.read_csv)\n",
        "import glob\n",
        "import cv2\n",
        "import os\n"
      ],
      "execution_count": null,
      "outputs": []
    },
    {
      "cell_type": "code",
      "metadata": {
        "_cell_guid": "79c7e3d0-c299-4dcb-8224-4455121ee9b0",
        "_uuid": "d629ff2d2480ee46fbb7e2d37f6b5fab8052498a",
        "trusted": true,
        "id": "9Dp67tPb37Ns",
        "colab_type": "code",
        "colab": {}
      },
      "source": [
        "np.random.seed(1234)\n",
        "directory=\"/kaggle/input/fruits-360/Training/\"\n",
        "classes=[\"Apple Golden 1\",\"Avocado\",\"Banana\",\"Cherry 1\",\"Cocos\",\"Kiwi\",\n",
        "         \"Lemon\",\"Mango\",\"Orange\"]\n",
        "\n",
        "all_arrays=[]\n",
        "img_size=100\n",
        "for i in classes:\n",
        "    path=os.path.join(directory,i)\n",
        "    class_num=classes.index(i)\n",
        "    for img in os.listdir(path):\n",
        "        img_array=cv2.imread(os.path.join(path,img),\n",
        "                             cv2.IMREAD_GRAYSCALE)\n",
        "        img_array=cv2.resize(img_array,(img_size,img_size))\n",
        "        all_arrays.append([img_array,class_num])"
      ],
      "execution_count": null,
      "outputs": []
    },
    {
      "cell_type": "code",
      "metadata": {
        "trusted": true,
        "_uuid": "1779fcaa5bc84f5e92b4022300dac63df96390c8",
        "id": "C7xW8Gb637Nu",
        "colab_type": "code",
        "colab": {}
      },
      "source": [
        "directory2=\"/kaggle/input/fruits-360/Test/\"\n",
        "classes2=[\"Apple Golden 1\",\"Avocado\",\"Banana\",\"Cherry 1\",\"Cocos\",\"Kiwi\",\n",
        "         \"Lemon\",\"Mango\",\"Orange\"]\n",
        "\n",
        "all_arrays2=[]\n",
        "img_size=100\n",
        "for i in classes2:\n",
        "    path=os.path.join(directory2,i)\n",
        "    class_num2=classes2.index(i)\n",
        "    for img in os.listdir(path):\n",
        "        img_array2=cv2.imread(os.path.join(path,img),\n",
        "                             cv2.IMREAD_GRAYSCALE)\n",
        "        img_array2=cv2.resize(img_array2,(img_size,img_size))\n",
        "        all_arrays2.append([img_array2,class_num2])"
      ],
      "execution_count": null,
      "outputs": []
    },
    {
      "cell_type": "code",
      "metadata": {
        "trusted": true,
        "scrolled": false,
        "_uuid": "82a4b7126d477ba3e8da59526b14509d77fff219",
        "id": "x1KsKNxo37Nx",
        "colab_type": "code",
        "colab": {}
      },
      "source": [
        "fruits_array_train=[]\n",
        "for features,label in all_arrays:\n",
        "    fruits_array_train.append(features)\n",
        "\n",
        "location=[[1,500,1150],[1500,2000,2500],[3000,3500,4000]]\n",
        "fruit_names=[\"Apple\",\"Avocado\",\"Banana\",\"Cherry\",\"Cocos\",\"Kiwi\",\"Lemon\",\"Mango\",\"Orange\"]"
      ],
      "execution_count": null,
      "outputs": []
    },
    {
      "cell_type": "code",
      "metadata": {
        "trusted": true,
        "_uuid": "831ce07c0d7b1a947270e7eb5e277d2bfea1ef3a",
        "id": "YsBX_t0i37Nz",
        "colab_type": "code",
        "colab": {}
      },
      "source": [
        "import random\n",
        "random.shuffle(all_arrays)\n",
        "\n",
        "X_train=[]\n",
        "Y_train=[]\n",
        "for features,label in all_arrays:\n",
        "    X_train.append(features)\n",
        "    Y_train.append(label)\n",
        "X_train=np.array(X_train) #arraying\n",
        "\n",
        "import random\n",
        "random.shuffle(all_arrays2)\n",
        "\n",
        "X_test=[]\n",
        "Y_test=[]\n",
        "for features,label in all_arrays2:\n",
        "    X_test.append(features)\n",
        "    Y_test.append(label)\n",
        "X_test=np.array(X_test) #arraying\n"
      ],
      "execution_count": null,
      "outputs": []
    },
    {
      "cell_type": "markdown",
      "metadata": {
        "_uuid": "81a32c26c83421f2db30a768f24a2f6309b634f4",
        "id": "hoWNpBST37N2",
        "colab_type": "text"
      },
      "source": [
        "We created our X features and Y labels. Also we used shuffle function to mix our dataset."
      ]
    },
    {
      "cell_type": "code",
      "metadata": {
        "trusted": true,
        "_uuid": "72370f67632fad11f68a15c1edc7a5fe8261e834",
        "id": "o3h6cx1-37N2",
        "colab_type": "code",
        "colab": {},
        "outputId": "499df5d8-ec98-4218-ad02-5ca9eddd5937"
      },
      "source": [
        "#normalization and reshaping\n",
        "X_train=X_train.reshape(-1,img_size,img_size,1)\n",
        "X_train=X_train/255\n",
        "X_test=X_test.reshape(-1,img_size,img_size,1)\n",
        "X_test=X_test/255\n",
        "print(\"shape of X_train= \",X_train.shape)\n",
        "print(\"shape of X_test=  \",X_test.shape)"
      ],
      "execution_count": null,
      "outputs": [
        {
          "output_type": "stream",
          "text": [
            "shape of X_train=  (4306, 100, 100, 1)\n",
            "shape of X_test=   (1445, 100, 100, 1)\n"
          ],
          "name": "stdout"
        }
      ]
    },
    {
      "cell_type": "code",
      "metadata": {
        "trusted": true,
        "_uuid": "2b0ac9b59ef77d63a93c9c82756437edbc80754d",
        "id": "_QQdCpBk37N5",
        "colab_type": "code",
        "colab": {}
      },
      "source": [
        "from keras.utils import to_categorical\n",
        "Y_train=to_categorical(Y_train,num_classes=9)\n",
        "Y_test=to_categorical(Y_test,num_classes=9)"
      ],
      "execution_count": null,
      "outputs": []
    },
    {
      "cell_type": "code",
      "metadata": {
        "trusted": true,
        "_uuid": "94a1ea1ea7220c7a11c44c486efea7854ec2143b",
        "id": "nHW7aMf937N8",
        "colab_type": "code",
        "colab": {}
      },
      "source": [
        "from sklearn.model_selection import  train_test_split\n",
        "x_train,x_val,y_train,y_val=train_test_split(X_train,Y_train,test_size=0.2,random_state=42)"
      ],
      "execution_count": null,
      "outputs": []
    },
    {
      "cell_type": "code",
      "metadata": {
        "trusted": true,
        "_uuid": "72fb153718ed9f20317771242c8e439e5255a289",
        "id": "4HOHDRGy37N-",
        "colab_type": "code",
        "colab": {}
      },
      "source": [
        "\n",
        "from keras.models import Sequential\n",
        "from keras.layers import Dense,Dropout,Flatten,Conv2D,MaxPool2D\n",
        "from keras.optimizers import Adam\n",
        "\n",
        "model=Sequential()\n",
        "model.add(Conv2D(filters=8,kernel_size=(5,5),padding=\"Same\",activation=\"relu\",input_shape=(100,100,1)))\n",
        "model.add(MaxPool2D(pool_size=(2,2)))\n",
        "model.add(Dropout(0.25))\n",
        "\n",
        "model.add(Conv2D(filters=16,kernel_size=(4,4),padding=\"Same\",activation=\"relu\"))\n",
        "model.add(MaxPool2D(pool_size=(2,2),strides=(2,2)))\n",
        "model.add(Dropout(0.25))\n",
        "\n",
        "model.add(Conv2D(filters=32,kernel_size=(4,4),padding=\"Same\",activation=\"relu\"))\n",
        "model.add(MaxPool2D(pool_size=(2,2),strides=(2,2)))\n",
        "model.add(Dropout(0.25))\n",
        "model.add(Flatten())\n",
        "model.add(Dense(512,activation=\"relu\"))\n",
        "model.add(Dropout(0.5))\n",
        "model.add(Dense(9,activation=\"softmax\"))\n",
        "#defining optimizer\n",
        "optimizer=Adam(lr=0.001,beta_1=0.9,beta_2=0.999)\n",
        "#compile the model\n",
        "model.compile(optimizer=optimizer,loss=\"binary_crossentropy\",metrics=[\"accuracy\"])\n",
        "\n",
        "epochs=40\n",
        "batch_size=36"
      ],
      "execution_count": null,
      "outputs": []
    },
    {
      "cell_type": "code",
      "metadata": {
        "trusted": true,
        "id": "cYiFtoPG37OA",
        "colab_type": "code",
        "colab": {},
        "outputId": "501fb3d7-e89f-47e1-9878-9fbc3eb21bad"
      },
      "source": [
        "model.summary()"
      ],
      "execution_count": null,
      "outputs": [
        {
          "output_type": "stream",
          "text": [
            "_________________________________________________________________\n",
            "Layer (type)                 Output Shape              Param #   \n",
            "=================================================================\n",
            "conv2d_7 (Conv2D)            (None, 100, 100, 8)       208       \n",
            "_________________________________________________________________\n",
            "max_pooling2d_7 (MaxPooling2 (None, 50, 50, 8)         0         \n",
            "_________________________________________________________________\n",
            "dropout_9 (Dropout)          (None, 50, 50, 8)         0         \n",
            "_________________________________________________________________\n",
            "conv2d_8 (Conv2D)            (None, 50, 50, 16)        2064      \n",
            "_________________________________________________________________\n",
            "max_pooling2d_8 (MaxPooling2 (None, 25, 25, 16)        0         \n",
            "_________________________________________________________________\n",
            "dropout_10 (Dropout)         (None, 25, 25, 16)        0         \n",
            "_________________________________________________________________\n",
            "conv2d_9 (Conv2D)            (None, 25, 25, 32)        8224      \n",
            "_________________________________________________________________\n",
            "max_pooling2d_9 (MaxPooling2 (None, 12, 12, 32)        0         \n",
            "_________________________________________________________________\n",
            "dropout_11 (Dropout)         (None, 12, 12, 32)        0         \n",
            "_________________________________________________________________\n",
            "flatten_3 (Flatten)          (None, 4608)              0         \n",
            "_________________________________________________________________\n",
            "dense_5 (Dense)              (None, 512)               2359808   \n",
            "_________________________________________________________________\n",
            "dropout_12 (Dropout)         (None, 512)               0         \n",
            "_________________________________________________________________\n",
            "dense_6 (Dense)              (None, 9)                 4617      \n",
            "=================================================================\n",
            "Total params: 2,374,921\n",
            "Trainable params: 2,374,921\n",
            "Non-trainable params: 0\n",
            "_________________________________________________________________\n"
          ],
          "name": "stdout"
        }
      ]
    },
    {
      "cell_type": "code",
      "metadata": {
        "trusted": true,
        "id": "DMuaD9hv37OD",
        "colab_type": "code",
        "colab": {},
        "outputId": "d0cf2729-db72-4588-c607-c3633941920e"
      },
      "source": [
        "#Train Model\n",
        "model.fit(x_train,y_train, epochs = 10, batch_size=32)"
      ],
      "execution_count": null,
      "outputs": [
        {
          "output_type": "stream",
          "text": [
            "Epoch 1/10\n",
            "3444/3444 [==============================] - 2s 525us/step - loss: 0.1785 - acc: 0.9336\n",
            "Epoch 2/10\n",
            "3444/3444 [==============================] - 1s 280us/step - loss: 0.0351 - acc: 0.9870\n",
            "Epoch 3/10\n",
            "3444/3444 [==============================] - 1s 264us/step - loss: 0.0153 - acc: 0.9950\n",
            "Epoch 4/10\n",
            "3444/3444 [==============================] - 1s 256us/step - loss: 0.0074 - acc: 0.9973\n",
            "Epoch 5/10\n",
            "3444/3444 [==============================] - 1s 258us/step - loss: 0.0047 - acc: 0.9987\n",
            "Epoch 6/10\n",
            "3444/3444 [==============================] - 1s 262us/step - loss: 0.0107 - acc: 0.9968\n",
            "Epoch 7/10\n",
            "3444/3444 [==============================] - 1s 255us/step - loss: 0.0022 - acc: 0.9994\n",
            "Epoch 8/10\n",
            "3444/3444 [==============================] - 1s 251us/step - loss: 0.0056 - acc: 0.9980\n",
            "Epoch 9/10\n",
            "3444/3444 [==============================] - 1s 255us/step - loss: 0.0039 - acc: 0.9988\n",
            "Epoch 10/10\n",
            "3444/3444 [==============================] - 1s 254us/step - loss: 0.0042 - acc: 0.9985\n"
          ],
          "name": "stdout"
        },
        {
          "output_type": "execute_result",
          "data": {
            "text/plain": [
              "<keras.callbacks.History at 0x7fb121686f98>"
            ]
          },
          "metadata": {
            "tags": []
          },
          "execution_count": 39
        }
      ]
    },
    {
      "cell_type": "code",
      "metadata": {
        "trusted": true,
        "id": "VM-bsD6W37OF",
        "colab_type": "code",
        "colab": {}
      },
      "source": [
        ""
      ],
      "execution_count": null,
      "outputs": []
    }
  ]
}